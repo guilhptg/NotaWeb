{
 "cells": [
  {
   "cell_type": "code",
   "execution_count": 6,
   "id": "a5bbebcb",
   "metadata": {},
   "outputs": [],
   "source": [
    "# criar o navegador\n",
    "from selenium import webdriver\n",
    "from selenium.webdriver.chrome.service import Service\n",
    "from webdriver_manager.chrome import ChromeDriverManager\n",
    "from selenium.webdriver.common.by import By\n",
    "\n",
    "servico = Service(ChromeDriverManager().install())\n",
    "navegador = webdriver.Chrome(service=servico)"
   ]
  },
  {
   "cell_type": "code",
   "execution_count": 7,
   "id": "b1863ba7",
   "metadata": {},
   "outputs": [
    {
     "name": "stdout",
     "output_type": "stream",
     "text": [
      "file:///home/usuario/Documentos/Repositorys/NotaWeb/NotaWeb/JusSearch/paginasindex_processo.html\n"
     ]
    }
   ],
   "source": [
    "# caminho da página index (entrar no site da busca jurídica)\n",
    "import os\n",
    "caminho_jusserach = 'file://' + os.getcwd()\n",
    "pasta_template = os.path.join(caminho_jusserach, 'paginas')\n",
    "caminho_template = pasta_template + 'index_processo.html'\n",
    "print(caminho_template) \n",
    "\n",
    "navegador.get(caminho_template)"
   ]
  },
  {
   "cell_type": "code",
   "execution_count": 8,
   "id": "08a27004",
   "metadata": {},
   "outputs": [
    {
     "data": {
      "text/html": [
       "<div>\n",
       "<style scoped>\n",
       "    .dataframe tbody tr th:only-of-type {\n",
       "        vertical-align: middle;\n",
       "    }\n",
       "\n",
       "    .dataframe tbody tr th {\n",
       "        vertical-align: top;\n",
       "    }\n",
       "\n",
       "    .dataframe thead th {\n",
       "        text-align: right;\n",
       "    }\n",
       "</style>\n",
       "<table border=\"1\" class=\"dataframe\">\n",
       "  <thead>\n",
       "    <tr style=\"text-align: right;\">\n",
       "      <th></th>\n",
       "      <th>Nome</th>\n",
       "      <th>Advogado</th>\n",
       "      <th>Processo</th>\n",
       "      <th>Cidade</th>\n",
       "      <th>Status</th>\n",
       "    </tr>\n",
       "  </thead>\n",
       "  <tbody>\n",
       "    <tr>\n",
       "      <th>0</th>\n",
       "      <td>Lira</td>\n",
       "      <td>Alon Lawyer</td>\n",
       "      <td>PC6592</td>\n",
       "      <td>Distrito Federal</td>\n",
       "      <td>NaN</td>\n",
       "    </tr>\n",
       "    <tr>\n",
       "      <th>1</th>\n",
       "      <td>João</td>\n",
       "      <td>Lawyer Alon</td>\n",
       "      <td>EB3792</td>\n",
       "      <td>Rio de Janeiro</td>\n",
       "      <td>NaN</td>\n",
       "    </tr>\n",
       "    <tr>\n",
       "      <th>2</th>\n",
       "      <td>Amanda</td>\n",
       "      <td>Amanda mesmo</td>\n",
       "      <td>MM1043</td>\n",
       "      <td>Rio de Janeiro</td>\n",
       "      <td>NaN</td>\n",
       "    </tr>\n",
       "    <tr>\n",
       "      <th>3</th>\n",
       "      <td>Carol</td>\n",
       "      <td>Amanda</td>\n",
       "      <td>PC5197</td>\n",
       "      <td>São Paulo</td>\n",
       "      <td>NaN</td>\n",
       "    </tr>\n",
       "  </tbody>\n",
       "</table>\n",
       "</div>"
      ],
      "text/plain": [
       "     Nome      Advogado Processo            Cidade  Status\n",
       "0    Lira   Alon Lawyer   PC6592  Distrito Federal     NaN\n",
       "1    João   Lawyer Alon   EB3792    Rio de Janeiro     NaN\n",
       "2  Amanda  Amanda mesmo   MM1043    Rio de Janeiro     NaN\n",
       "3   Carol        Amanda   PC5197         São Paulo     NaN"
      ]
     },
     "metadata": {},
     "output_type": "display_data"
    }
   ],
   "source": [
    "# importar a base de dados\n",
    "import pandas as pd\n",
    "\n",
    "caminho_arquivo = os.path.join(os.getcwd(), 'data')\n",
    "tabela = pd.read_excel(caminho_arquivo + \"/Processos.xlsx\")\n",
    "display(tabela)"
   ]
  },
  {
   "cell_type": "code",
   "execution_count": 9,
   "id": "b2265129",
   "metadata": {},
   "outputs": [
    {
     "ename": "NoSuchElementException",
     "evalue": "Message: no such element: Unable to locate element: {\"method\":\"css selector\",\"selector\":\".dropdown-menu\"}\n  (Session info: chrome=131.0.6778.85); For documentation on this error, please visit: https://www.selenium.dev/documentation/webdriver/troubleshooting/errors#no-such-element-exception\nStacktrace:\n#0 0x563feb32d31a <unknown>\n#1 0x563feae436e0 <unknown>\n#2 0x563feae923e6 <unknown>\n#3 0x563feae92681 <unknown>\n#4 0x563feaed7b04 <unknown>\n#5 0x563feaeb648d <unknown>\n#6 0x563feaed4ed7 <unknown>\n#7 0x563feaeb6203 <unknown>\n#8 0x563feae84cc0 <unknown>\n#9 0x563feae85c9e <unknown>\n#10 0x563feb2fad0b <unknown>\n#11 0x563feb2fec92 <unknown>\n#12 0x563feb2e7b3c <unknown>\n#13 0x563feb2ff807 <unknown>\n#14 0x563feb2cd0df <unknown>\n#15 0x563feb31c578 <unknown>\n#16 0x563feb31c740 <unknown>\n#17 0x563feb32c196 <unknown>\n#18 0x7fbe0807dea7 start_thread\n",
     "output_type": "error",
     "traceback": [
      "\u001b[0;31m---------------------------------------------------------------------------\u001b[0m",
      "\u001b[0;31mNoSuchElementException\u001b[0m                    Traceback (most recent call last)",
      "Cell \u001b[0;32mIn[9], line 10\u001b[0m\n\u001b[1;32m      8\u001b[0m sleep(\u001b[38;5;241m1\u001b[39m)\n\u001b[1;32m      9\u001b[0m \u001b[38;5;66;03m# abrir a lista de cidades\u001b[39;00m\n\u001b[0;32m---> 10\u001b[0m botao \u001b[38;5;241m=\u001b[39m navegador\u001b[38;5;241m.\u001b[39mfind_element(By\u001b[38;5;241m.\u001b[39mCLASS_NAME, \u001b[38;5;124m'\u001b[39m\u001b[38;5;124mdropdown-menu\u001b[39m\u001b[38;5;124m'\u001b[39m)\n\u001b[1;32m     11\u001b[0m ActionChains(navegador)\u001b[38;5;241m.\u001b[39mmove_to_element(botao)\u001b[38;5;241m.\u001b[39mperform()\n\u001b[1;32m     13\u001b[0m cidade \u001b[38;5;241m=\u001b[39m tabela\u001b[38;5;241m.\u001b[39mloc[linha, \u001b[38;5;124m\"\u001b[39m\u001b[38;5;124mCidade\u001b[39m\u001b[38;5;124m\"\u001b[39m]\n",
      "File \u001b[0;32m~/anaconda3/lib/python3.12/site-packages/selenium/webdriver/remote/webdriver.py:748\u001b[0m, in \u001b[0;36mWebDriver.find_element\u001b[0;34m(self, by, value)\u001b[0m\n\u001b[1;32m    745\u001b[0m     by \u001b[38;5;241m=\u001b[39m By\u001b[38;5;241m.\u001b[39mCSS_SELECTOR\n\u001b[1;32m    746\u001b[0m     value \u001b[38;5;241m=\u001b[39m \u001b[38;5;124mf\u001b[39m\u001b[38;5;124m'\u001b[39m\u001b[38;5;124m[name=\u001b[39m\u001b[38;5;124m\"\u001b[39m\u001b[38;5;132;01m{\u001b[39;00mvalue\u001b[38;5;132;01m}\u001b[39;00m\u001b[38;5;124m\"\u001b[39m\u001b[38;5;124m]\u001b[39m\u001b[38;5;124m'\u001b[39m\n\u001b[0;32m--> 748\u001b[0m \u001b[38;5;28;01mreturn\u001b[39;00m \u001b[38;5;28mself\u001b[39m\u001b[38;5;241m.\u001b[39mexecute(Command\u001b[38;5;241m.\u001b[39mFIND_ELEMENT, {\u001b[38;5;124m\"\u001b[39m\u001b[38;5;124musing\u001b[39m\u001b[38;5;124m\"\u001b[39m: by, \u001b[38;5;124m\"\u001b[39m\u001b[38;5;124mvalue\u001b[39m\u001b[38;5;124m\"\u001b[39m: value})[\u001b[38;5;124m\"\u001b[39m\u001b[38;5;124mvalue\u001b[39m\u001b[38;5;124m\"\u001b[39m]\n",
      "File \u001b[0;32m~/anaconda3/lib/python3.12/site-packages/selenium/webdriver/remote/webdriver.py:354\u001b[0m, in \u001b[0;36mWebDriver.execute\u001b[0;34m(self, driver_command, params)\u001b[0m\n\u001b[1;32m    352\u001b[0m response \u001b[38;5;241m=\u001b[39m \u001b[38;5;28mself\u001b[39m\u001b[38;5;241m.\u001b[39mcommand_executor\u001b[38;5;241m.\u001b[39mexecute(driver_command, params)\n\u001b[1;32m    353\u001b[0m \u001b[38;5;28;01mif\u001b[39;00m response:\n\u001b[0;32m--> 354\u001b[0m     \u001b[38;5;28mself\u001b[39m\u001b[38;5;241m.\u001b[39merror_handler\u001b[38;5;241m.\u001b[39mcheck_response(response)\n\u001b[1;32m    355\u001b[0m     response[\u001b[38;5;124m\"\u001b[39m\u001b[38;5;124mvalue\u001b[39m\u001b[38;5;124m\"\u001b[39m] \u001b[38;5;241m=\u001b[39m \u001b[38;5;28mself\u001b[39m\u001b[38;5;241m.\u001b[39m_unwrap_value(response\u001b[38;5;241m.\u001b[39mget(\u001b[38;5;124m\"\u001b[39m\u001b[38;5;124mvalue\u001b[39m\u001b[38;5;124m\"\u001b[39m, \u001b[38;5;28;01mNone\u001b[39;00m))\n\u001b[1;32m    356\u001b[0m     \u001b[38;5;28;01mreturn\u001b[39;00m response\n",
      "File \u001b[0;32m~/anaconda3/lib/python3.12/site-packages/selenium/webdriver/remote/errorhandler.py:229\u001b[0m, in \u001b[0;36mErrorHandler.check_response\u001b[0;34m(self, response)\u001b[0m\n\u001b[1;32m    227\u001b[0m         alert_text \u001b[38;5;241m=\u001b[39m value[\u001b[38;5;124m\"\u001b[39m\u001b[38;5;124malert\u001b[39m\u001b[38;5;124m\"\u001b[39m]\u001b[38;5;241m.\u001b[39mget(\u001b[38;5;124m\"\u001b[39m\u001b[38;5;124mtext\u001b[39m\u001b[38;5;124m\"\u001b[39m)\n\u001b[1;32m    228\u001b[0m     \u001b[38;5;28;01mraise\u001b[39;00m exception_class(message, screen, stacktrace, alert_text)  \u001b[38;5;66;03m# type: ignore[call-arg]  # mypy is not smart enough here\u001b[39;00m\n\u001b[0;32m--> 229\u001b[0m \u001b[38;5;28;01mraise\u001b[39;00m exception_class(message, screen, stacktrace)\n",
      "\u001b[0;31mNoSuchElementException\u001b[0m: Message: no such element: Unable to locate element: {\"method\":\"css selector\",\"selector\":\".dropdown-menu\"}\n  (Session info: chrome=131.0.6778.85); For documentation on this error, please visit: https://www.selenium.dev/documentation/webdriver/troubleshooting/errors#no-such-element-exception\nStacktrace:\n#0 0x563feb32d31a <unknown>\n#1 0x563feae436e0 <unknown>\n#2 0x563feae923e6 <unknown>\n#3 0x563feae92681 <unknown>\n#4 0x563feaed7b04 <unknown>\n#5 0x563feaeb648d <unknown>\n#6 0x563feaed4ed7 <unknown>\n#7 0x563feaeb6203 <unknown>\n#8 0x563feae84cc0 <unknown>\n#9 0x563feae85c9e <unknown>\n#10 0x563feb2fad0b <unknown>\n#11 0x563feb2fec92 <unknown>\n#12 0x563feb2e7b3c <unknown>\n#13 0x563feb2ff807 <unknown>\n#14 0x563feb2cd0df <unknown>\n#15 0x563feb31c578 <unknown>\n#16 0x563feb31c740 <unknown>\n#17 0x563feb32c196 <unknown>\n#18 0x7fbe0807dea7 start_thread\n"
     ]
    }
   ],
   "source": [
    "from selenium.webdriver import ActionChains\n",
    "from time import sleep\n",
    "\n",
    "for linha in tabela.index:\n",
    "    sleep(1)\n",
    "    # para cada processo (linha da tabela)\n",
    "    navegador.get(caminho_template)\n",
    "    sleep(1)\n",
    "    # abrir a lista de cidades\n",
    "    botao = navegador.find_element(By.CLASS_NAME, 'dropdown-menu')\n",
    "    ActionChains(navegador).move_to_element(botao).perform()\n",
    "    \n",
    "    cidade = tabela.loc[linha, \"Cidade\"]\n",
    "    \n",
    "    # selecionando o cidade\n",
    "    navegador.find_element(By.PARTIAL_LINK_TEXT, cidade).click()\n",
    "    \n",
    "    # mudar para a nova aba\n",
    "    aba_original = navegador.window_handles[0]\n",
    "    indice = 1 + linha\n",
    "    nova_aba = navegador.window_handles[indice]\n",
    "    \n",
    "    navegador.switch_to.window(nova_aba)\n",
    "    \n",
    "    # preencher o formulário com os dados de busca\n",
    "    navegador.find_element(By.ID, 'nome').send_keys(tabela.loc[linha, \"Nome\"])\n",
    "    navegador.find_element(By.ID, 'advogado').send_keys(tabela.loc[linha, \"Advogado\"])\n",
    "    navegador.find_element(By.ID, 'numero').send_keys(tabela.loc[linha, \"Processo\"])\n",
    "\n",
    "    # clicar em pesquisar\n",
    "    navegador.find_element(By.CLASS_NAME, 'registerbtn').click()\n",
    "    \n",
    "    # confirmar a pesquisa\n",
    "    alerta = navegador.switch_to.alert\n",
    "    alerta.accept()\n",
    "    \n",
    "    # esperar o resultado da pesquisa e agir de acordo com o resultado\n",
    "    while True:\n",
    "        try:\n",
    "            alerta = navegador.switch_to.alert\n",
    "            break\n",
    "        except:\n",
    "            time.sleep(1)\n",
    "    texto_alerta = alerta.text\n",
    "\n",
    "    if \"Processo encontrado com sucesso\" in texto_alerta:\n",
    "        alerta.accept()\n",
    "        tabela.loc[linha, \"Status\"] = \"Encontrado\"\n",
    "    else:\n",
    "        tabela.loc[linha, \"Status\"] = \"Não encontrado\"\n",
    "        alerta.accept()"
   ]
  },
  {
   "cell_type": "code",
   "execution_count": 45,
   "id": "d5c695b6",
   "metadata": {},
   "outputs": [
    {
     "data": {
      "text/html": [
       "<div>\n",
       "<style scoped>\n",
       "    .dataframe tbody tr th:only-of-type {\n",
       "        vertical-align: middle;\n",
       "    }\n",
       "\n",
       "    .dataframe tbody tr th {\n",
       "        vertical-align: top;\n",
       "    }\n",
       "\n",
       "    .dataframe thead th {\n",
       "        text-align: right;\n",
       "    }\n",
       "</style>\n",
       "<table border=\"1\" class=\"dataframe\">\n",
       "  <thead>\n",
       "    <tr style=\"text-align: right;\">\n",
       "      <th></th>\n",
       "      <th>Nome</th>\n",
       "      <th>Advogado</th>\n",
       "      <th>Processo</th>\n",
       "      <th>Cidade</th>\n",
       "      <th>Status</th>\n",
       "    </tr>\n",
       "  </thead>\n",
       "  <tbody>\n",
       "    <tr>\n",
       "      <th>0</th>\n",
       "      <td>Lira</td>\n",
       "      <td>Alon Lawyer</td>\n",
       "      <td>PC6592</td>\n",
       "      <td>Distrito Federal</td>\n",
       "      <td>Encontrado</td>\n",
       "    </tr>\n",
       "    <tr>\n",
       "      <th>1</th>\n",
       "      <td>João</td>\n",
       "      <td>Lawyer Alon</td>\n",
       "      <td>EB3792</td>\n",
       "      <td>Rio de Janeiro</td>\n",
       "      <td>Não encontrado</td>\n",
       "    </tr>\n",
       "    <tr>\n",
       "      <th>2</th>\n",
       "      <td>Amanda</td>\n",
       "      <td>Amanda mesmo</td>\n",
       "      <td>MM1043</td>\n",
       "      <td>Rio de Janeiro</td>\n",
       "      <td>Encontrado</td>\n",
       "    </tr>\n",
       "    <tr>\n",
       "      <th>3</th>\n",
       "      <td>Carol</td>\n",
       "      <td>Amanda</td>\n",
       "      <td>PC5197</td>\n",
       "      <td>São Paulo</td>\n",
       "      <td>Não encontrado</td>\n",
       "    </tr>\n",
       "  </tbody>\n",
       "</table>\n",
       "</div>"
      ],
      "text/plain": [
       "     Nome      Advogado Processo            Cidade          Status\n",
       "0    Lira   Alon Lawyer   PC6592  Distrito Federal      Encontrado\n",
       "1    João   Lawyer Alon   EB3792    Rio de Janeiro  Não encontrado\n",
       "2  Amanda  Amanda mesmo   MM1043    Rio de Janeiro      Encontrado\n",
       "3   Carol        Amanda   PC5197         São Paulo  Não encontrado"
      ]
     },
     "metadata": {},
     "output_type": "display_data"
    }
   ],
   "source": [
    "navegador.quit()\n",
    "display(tabela)\n",
    "\n",
    "tabela.to_excel(\"Processos Atualizado.xlsx\")"
   ]
  }
 ],
 "metadata": {
  "kernelspec": {
   "display_name": "Python 3 (ipykernel)",
   "language": "python",
   "name": "python3"
  },
  "language_info": {
   "codemirror_mode": {
    "name": "ipython",
    "version": 3
   },
   "file_extension": ".py",
   "mimetype": "text/x-python",
   "name": "python",
   "nbconvert_exporter": "python",
   "pygments_lexer": "ipython3",
   "version": "3.12.4"
  }
 },
 "nbformat": 4,
 "nbformat_minor": 5
}
