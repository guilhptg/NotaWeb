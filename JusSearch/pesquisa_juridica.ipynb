{
 "cells": [
  {
   "cell_type": "code",
   "execution_count": 7,
   "metadata": {},
   "outputs": [],
   "source": [
    "from selenium import webdriver\n",
    "from selenium.webdriver.chrome.service import Service\n",
    "from webdriver_manager.chrome import ChromeDriverManager\n",
    "from selenium.webdriver.common.by import By\n",
    "from selenium.webdriver.common.keys import Keys\n",
    "from time import sleep\n",
    "\n",
    "service = Service(ChromeDriverManager().install())\n",
    "nav = webdriver.Chrome(service=service)"
   ]
  },
  {
   "cell_type": "code",
   "execution_count": 8,
   "metadata": {},
   "outputs": [
    {
     "name": "stdout",
     "output_type": "stream",
     "text": [
      "file:///home/usuario/Documentos/Repositorys/NotaWeb/JusSearch\n",
      "file:///home/usuario/Documentos/Repositorys/NotaWeb/JusSearchpaginas/index_processo.html\n"
     ]
    }
   ],
   "source": [
    "import os\n",
    "\n",
    "caminho = 'file://' + os.getcwd() \n",
    "print(caminho)\n",
    "archive = caminho + 'paginas/index_processo.html'\n",
    "print(archive)\n",
    "nav.get(archive)"
   ]
  },
  {
   "cell_type": "code",
   "execution_count": 9,
   "metadata": {},
   "outputs": [
    {
     "ename": "FileNotFoundError",
     "evalue": "[Errno 2] No such file or directory: 'Processos.xlsx'",
     "output_type": "error",
     "traceback": [
      "\u001b[0;31m---------------------------------------------------------------------------\u001b[0m",
      "\u001b[0;31mFileNotFoundError\u001b[0m                         Traceback (most recent call last)",
      "Cell \u001b[0;32mIn[9], line 3\u001b[0m\n\u001b[1;32m      1\u001b[0m \u001b[38;5;28;01mimport\u001b[39;00m \u001b[38;5;21;01mpandas\u001b[39;00m \u001b[38;5;28;01mas\u001b[39;00m \u001b[38;5;21;01mpd\u001b[39;00m\n\u001b[0;32m----> 3\u001b[0m processos \u001b[38;5;241m=\u001b[39m pd\u001b[38;5;241m.\u001b[39mread_excel(\u001b[38;5;124m'\u001b[39m\u001b[38;5;124mProcessos.xlsx\u001b[39m\u001b[38;5;124m'\u001b[39m)\n\u001b[1;32m      4\u001b[0m processos\u001b[38;5;241m.\u001b[39minfo()\n\u001b[1;32m      5\u001b[0m processos[\u001b[38;5;124m'\u001b[39m\u001b[38;5;124mStatus\u001b[39m\u001b[38;5;124m'\u001b[39m] \u001b[38;5;241m=\u001b[39m processos[\u001b[38;5;124m'\u001b[39m\u001b[38;5;124mStatus\u001b[39m\u001b[38;5;124m'\u001b[39m]\u001b[38;5;241m.\u001b[39mastype(\u001b[38;5;28mstr\u001b[39m)\n",
      "File \u001b[0;32m~/anaconda3/lib/python3.12/site-packages/pandas/io/excel/_base.py:495\u001b[0m, in \u001b[0;36mread_excel\u001b[0;34m(io, sheet_name, header, names, index_col, usecols, dtype, engine, converters, true_values, false_values, skiprows, nrows, na_values, keep_default_na, na_filter, verbose, parse_dates, date_parser, date_format, thousands, decimal, comment, skipfooter, storage_options, dtype_backend, engine_kwargs)\u001b[0m\n\u001b[1;32m    493\u001b[0m \u001b[38;5;28;01mif\u001b[39;00m \u001b[38;5;129;01mnot\u001b[39;00m \u001b[38;5;28misinstance\u001b[39m(io, ExcelFile):\n\u001b[1;32m    494\u001b[0m     should_close \u001b[38;5;241m=\u001b[39m \u001b[38;5;28;01mTrue\u001b[39;00m\n\u001b[0;32m--> 495\u001b[0m     io \u001b[38;5;241m=\u001b[39m ExcelFile(\n\u001b[1;32m    496\u001b[0m         io,\n\u001b[1;32m    497\u001b[0m         storage_options\u001b[38;5;241m=\u001b[39mstorage_options,\n\u001b[1;32m    498\u001b[0m         engine\u001b[38;5;241m=\u001b[39mengine,\n\u001b[1;32m    499\u001b[0m         engine_kwargs\u001b[38;5;241m=\u001b[39mengine_kwargs,\n\u001b[1;32m    500\u001b[0m     )\n\u001b[1;32m    501\u001b[0m \u001b[38;5;28;01melif\u001b[39;00m engine \u001b[38;5;129;01mand\u001b[39;00m engine \u001b[38;5;241m!=\u001b[39m io\u001b[38;5;241m.\u001b[39mengine:\n\u001b[1;32m    502\u001b[0m     \u001b[38;5;28;01mraise\u001b[39;00m \u001b[38;5;167;01mValueError\u001b[39;00m(\n\u001b[1;32m    503\u001b[0m         \u001b[38;5;124m\"\u001b[39m\u001b[38;5;124mEngine should not be specified when passing \u001b[39m\u001b[38;5;124m\"\u001b[39m\n\u001b[1;32m    504\u001b[0m         \u001b[38;5;124m\"\u001b[39m\u001b[38;5;124man ExcelFile - ExcelFile already has the engine set\u001b[39m\u001b[38;5;124m\"\u001b[39m\n\u001b[1;32m    505\u001b[0m     )\n",
      "File \u001b[0;32m~/anaconda3/lib/python3.12/site-packages/pandas/io/excel/_base.py:1550\u001b[0m, in \u001b[0;36mExcelFile.__init__\u001b[0;34m(self, path_or_buffer, engine, storage_options, engine_kwargs)\u001b[0m\n\u001b[1;32m   1548\u001b[0m     ext \u001b[38;5;241m=\u001b[39m \u001b[38;5;124m\"\u001b[39m\u001b[38;5;124mxls\u001b[39m\u001b[38;5;124m\"\u001b[39m\n\u001b[1;32m   1549\u001b[0m \u001b[38;5;28;01melse\u001b[39;00m:\n\u001b[0;32m-> 1550\u001b[0m     ext \u001b[38;5;241m=\u001b[39m inspect_excel_format(\n\u001b[1;32m   1551\u001b[0m         content_or_path\u001b[38;5;241m=\u001b[39mpath_or_buffer, storage_options\u001b[38;5;241m=\u001b[39mstorage_options\n\u001b[1;32m   1552\u001b[0m     )\n\u001b[1;32m   1553\u001b[0m     \u001b[38;5;28;01mif\u001b[39;00m ext \u001b[38;5;129;01mis\u001b[39;00m \u001b[38;5;28;01mNone\u001b[39;00m:\n\u001b[1;32m   1554\u001b[0m         \u001b[38;5;28;01mraise\u001b[39;00m \u001b[38;5;167;01mValueError\u001b[39;00m(\n\u001b[1;32m   1555\u001b[0m             \u001b[38;5;124m\"\u001b[39m\u001b[38;5;124mExcel file format cannot be determined, you must specify \u001b[39m\u001b[38;5;124m\"\u001b[39m\n\u001b[1;32m   1556\u001b[0m             \u001b[38;5;124m\"\u001b[39m\u001b[38;5;124man engine manually.\u001b[39m\u001b[38;5;124m\"\u001b[39m\n\u001b[1;32m   1557\u001b[0m         )\n",
      "File \u001b[0;32m~/anaconda3/lib/python3.12/site-packages/pandas/io/excel/_base.py:1402\u001b[0m, in \u001b[0;36minspect_excel_format\u001b[0;34m(content_or_path, storage_options)\u001b[0m\n\u001b[1;32m   1399\u001b[0m \u001b[38;5;28;01mif\u001b[39;00m \u001b[38;5;28misinstance\u001b[39m(content_or_path, \u001b[38;5;28mbytes\u001b[39m):\n\u001b[1;32m   1400\u001b[0m     content_or_path \u001b[38;5;241m=\u001b[39m BytesIO(content_or_path)\n\u001b[0;32m-> 1402\u001b[0m \u001b[38;5;28;01mwith\u001b[39;00m get_handle(\n\u001b[1;32m   1403\u001b[0m     content_or_path, \u001b[38;5;124m\"\u001b[39m\u001b[38;5;124mrb\u001b[39m\u001b[38;5;124m\"\u001b[39m, storage_options\u001b[38;5;241m=\u001b[39mstorage_options, is_text\u001b[38;5;241m=\u001b[39m\u001b[38;5;28;01mFalse\u001b[39;00m\n\u001b[1;32m   1404\u001b[0m ) \u001b[38;5;28;01mas\u001b[39;00m handle:\n\u001b[1;32m   1405\u001b[0m     stream \u001b[38;5;241m=\u001b[39m handle\u001b[38;5;241m.\u001b[39mhandle\n\u001b[1;32m   1406\u001b[0m     stream\u001b[38;5;241m.\u001b[39mseek(\u001b[38;5;241m0\u001b[39m)\n",
      "File \u001b[0;32m~/anaconda3/lib/python3.12/site-packages/pandas/io/common.py:882\u001b[0m, in \u001b[0;36mget_handle\u001b[0;34m(path_or_buf, mode, encoding, compression, memory_map, is_text, errors, storage_options)\u001b[0m\n\u001b[1;32m    873\u001b[0m         handle \u001b[38;5;241m=\u001b[39m \u001b[38;5;28mopen\u001b[39m(\n\u001b[1;32m    874\u001b[0m             handle,\n\u001b[1;32m    875\u001b[0m             ioargs\u001b[38;5;241m.\u001b[39mmode,\n\u001b[0;32m   (...)\u001b[0m\n\u001b[1;32m    878\u001b[0m             newline\u001b[38;5;241m=\u001b[39m\u001b[38;5;124m\"\u001b[39m\u001b[38;5;124m\"\u001b[39m,\n\u001b[1;32m    879\u001b[0m         )\n\u001b[1;32m    880\u001b[0m     \u001b[38;5;28;01melse\u001b[39;00m:\n\u001b[1;32m    881\u001b[0m         \u001b[38;5;66;03m# Binary mode\u001b[39;00m\n\u001b[0;32m--> 882\u001b[0m         handle \u001b[38;5;241m=\u001b[39m \u001b[38;5;28mopen\u001b[39m(handle, ioargs\u001b[38;5;241m.\u001b[39mmode)\n\u001b[1;32m    883\u001b[0m     handles\u001b[38;5;241m.\u001b[39mappend(handle)\n\u001b[1;32m    885\u001b[0m \u001b[38;5;66;03m# Convert BytesIO or file objects passed with an encoding\u001b[39;00m\n",
      "\u001b[0;31mFileNotFoundError\u001b[0m: [Errno 2] No such file or directory: 'Processos.xlsx'"
     ]
    }
   ],
   "source": [
    "import pandas as pd\n",
    "\n",
    "processos = pd.read_excel('Processos.xlsx')\n",
    "processos.info()\n",
    "processos['Status'] = processos['Status'].astype(str)\n",
    "display(processos)\n",
    "\n",
    "df_nome = processos['Nome'][0]\n",
    "df_advogado = processos['Advogado'][0]\n",
    "df_processo = processos['Processo'][0]\n",
    "df_cidade = processos['Cidade'][0]\n",
    "df_status = processos['Status'][0]"
   ]
  },
  {
   "cell_type": "code",
   "execution_count": 12,
   "metadata": {},
   "outputs": [
    {
     "name": "stdout",
     "output_type": "stream",
     "text": [
      "Vamos buscar no nosso banco de dados, por favor aguarde. Pode durar alguns minutos.\n",
      "Vamos buscar no nosso banco de dados, por favor aguarde. Pode durar alguns minutos.\n",
      "Vamos buscar no nosso banco de dados, por favor aguarde. Pode durar alguns minutos.\n",
      "Vamos buscar no nosso banco de dados, por favor aguarde. Pode durar alguns minutos.\n",
      "Vamos buscar no nosso banco de dados, por favor aguarde. Pode durar alguns minutos.\n",
      "Vamos buscar no nosso banco de dados, por favor aguarde. Pode durar alguns minutos.\n",
      "Vamos buscar no nosso banco de dados, por favor aguarde. Pode durar alguns minutos.\n",
      "Vamos buscar no nosso banco de dados, por favor aguarde. Pode durar alguns minutos.\n"
     ]
    }
   ],
   "source": [
    "from selenium.webdriver import ActionChains\n",
    "\n",
    "# Para cada processo\n",
    "nav.get(archive)\n",
    "\n",
    "for linha in processos.index:\n",
    "\n",
    "    cidade = processos.loc[linha, 'Cidade']        \n",
    "    sleep(1)\n",
    "    escolha_estado = nav.find_element(By.CLASS_NAME, 'dropdown-menu')\n",
    "    ActionChains(nav).move_to_element(escolha_estado).perform()\n",
    "\n",
    "\n",
    "    sleep(1)\n",
    "    nav.find_element(By.PARTIAL_LINK_TEXT, cidade).click()\n",
    "\n",
    "    # Abas \n",
    "    index_aba = nav.window_handles[0]\n",
    "\n",
    "    registro_aba = nav.window_handles[1]\n",
    "\n",
    "    nav.switch_to.window(registro_aba)\n",
    "\n",
    "    nome_da_parte = nav.find_element(By.ID, 'nome').send_keys(processos.loc[linha, \"Nome\"])\n",
    "    advogado = nav.find_element(By.ID, 'advogado').send_keys(processos.loc[linha, 'Advogado'])\n",
    "    num_processo = nav.find_element(By.ID, 'numero').send_keys(processos.loc[linha, 'Processo'])\n",
    "    \n",
    "\n",
    "    pesquisar = nav.find_element(By.CLASS_NAME, 'registerbtn')\n",
    "    sleep(0.3)\n",
    "    pesquisar.click()\n",
    "\n",
    "    alerta = nav.switch_to.alert\n",
    "    mensagem_alerta = alerta.text\n",
    "    print(mensagem_alerta)\n",
    "    alerta.accept()\n",
    "\n",
    "    while True:\n",
    "        try:\n",
    "            alerta = nav.switch_to.alert\n",
    "            break\n",
    "        except:\n",
    "            sleep(1)\n",
    "    print(mensagem_alerta)\n",
    "        \n",
    "    if 'Processo encontrado com sucesso' in mensagem_alerta:\n",
    "        sleep(2)\n",
    "        print('Processo encontrado com sucesso!')\n",
    "        alerta.accept()\n",
    "        processos.loc[linha, 'Status'] = 'Encontrado'\n",
    "        print('accept')\n",
    "        alerta.accept()\n",
    "        nav.close()\n",
    "    else:\n",
    "        sleep(2)\n",
    "        processos.loc[linha, 'Status'] = 'Não encontrado'\n",
    "        alerta.accept()\n",
    "        nav.close()\n",
    "    sleep(1)\n",
    "\n",
    "    nav.switch_to.window(index_aba)\n",
    "\n"
   ]
  },
  {
   "cell_type": "code",
   "execution_count": 13,
   "metadata": {},
   "outputs": [
    {
     "data": {
      "text/html": [
       "<div>\n",
       "<style scoped>\n",
       "    .dataframe tbody tr th:only-of-type {\n",
       "        vertical-align: middle;\n",
       "    }\n",
       "\n",
       "    .dataframe tbody tr th {\n",
       "        vertical-align: top;\n",
       "    }\n",
       "\n",
       "    .dataframe thead th {\n",
       "        text-align: right;\n",
       "    }\n",
       "</style>\n",
       "<table border=\"1\" class=\"dataframe\">\n",
       "  <thead>\n",
       "    <tr style=\"text-align: right;\">\n",
       "      <th></th>\n",
       "      <th>Nome</th>\n",
       "      <th>Advogado</th>\n",
       "      <th>Processo</th>\n",
       "      <th>Cidade</th>\n",
       "      <th>Status</th>\n",
       "    </tr>\n",
       "  </thead>\n",
       "  <tbody>\n",
       "    <tr>\n",
       "      <th>0</th>\n",
       "      <td>Lira</td>\n",
       "      <td>Alon Lawyer</td>\n",
       "      <td>PC6592</td>\n",
       "      <td>Distrito Federal</td>\n",
       "      <td>Não encontrado</td>\n",
       "    </tr>\n",
       "    <tr>\n",
       "      <th>1</th>\n",
       "      <td>João</td>\n",
       "      <td>Lawyer Alon</td>\n",
       "      <td>EB3792</td>\n",
       "      <td>Rio de Janeiro</td>\n",
       "      <td>Não encontrado</td>\n",
       "    </tr>\n",
       "    <tr>\n",
       "      <th>2</th>\n",
       "      <td>Amanda</td>\n",
       "      <td>Amanda mesmo</td>\n",
       "      <td>MM1043</td>\n",
       "      <td>Rio de Janeiro</td>\n",
       "      <td>Não encontrado</td>\n",
       "    </tr>\n",
       "    <tr>\n",
       "      <th>3</th>\n",
       "      <td>Carol</td>\n",
       "      <td>Amanda</td>\n",
       "      <td>PC5197</td>\n",
       "      <td>São Paulo</td>\n",
       "      <td>Não encontrado</td>\n",
       "    </tr>\n",
       "  </tbody>\n",
       "</table>\n",
       "</div>"
      ],
      "text/plain": [
       "     Nome      Advogado Processo            Cidade          Status\n",
       "0    Lira   Alon Lawyer   PC6592  Distrito Federal  Não encontrado\n",
       "1    João   Lawyer Alon   EB3792    Rio de Janeiro  Não encontrado\n",
       "2  Amanda  Amanda mesmo   MM1043    Rio de Janeiro  Não encontrado\n",
       "3   Carol        Amanda   PC5197         São Paulo  Não encontrado"
      ]
     },
     "metadata": {},
     "output_type": "display_data"
    },
    {
     "name": "stdout",
     "output_type": "stream",
     "text": [
      "<class 'pandas.core.frame.DataFrame'>\n",
      "RangeIndex: 4 entries, 0 to 3\n",
      "Data columns (total 5 columns):\n",
      " #   Column    Non-Null Count  Dtype \n",
      "---  ------    --------------  ----- \n",
      " 0   Nome      4 non-null      object\n",
      " 1   Advogado  4 non-null      object\n",
      " 2   Processo  4 non-null      object\n",
      " 3   Cidade    4 non-null      object\n",
      " 4   Status    4 non-null      object\n",
      "dtypes: object(5)\n",
      "memory usage: 292.0+ bytes\n"
     ]
    }
   ],
   "source": [
    "display(processos)\n",
    "processos.info()"
   ]
  }
 ],
 "metadata": {
  "kernelspec": {
   "display_name": "base",
   "language": "python",
   "name": "python3"
  },
  "language_info": {
   "codemirror_mode": {
    "name": "ipython",
    "version": 3
   },
   "file_extension": ".py",
   "mimetype": "text/x-python",
   "name": "python",
   "nbconvert_exporter": "python",
   "pygments_lexer": "ipython3",
   "version": "3.12.4"
  }
 },
 "nbformat": 4,
 "nbformat_minor": 2
}
