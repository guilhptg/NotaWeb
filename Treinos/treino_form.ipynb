{
 "cells": [
  {
   "cell_type": "code",
   "execution_count": 96,
   "metadata": {},
   "outputs": [],
   "source": [
    "from selenium import webdriver\n",
    "from selenium.webdriver.chrome.service import Service\n",
    "from webdriver_manager.chrome import ChromeDriverManager\n",
    "\n",
    "\n",
    "\n",
    "servico = Service(ChromeDriverManager().install())\n",
    "navegador = webdriver.Chrome(service=servico)"
   ]
  },
  {
   "cell_type": "code",
   "execution_count": 97,
   "metadata": {},
   "outputs": [
    {
     "name": "stdout",
     "output_type": "stream",
     "text": [
      "file:///home/usuario/Documentos/Repositorys/NotaWeb/Treinos/formulario.html\n"
     ]
    }
   ],
   "source": [
    "from selenium.webdriver.common.by import By\n",
    "\n",
    "\n",
    "arquivo = \"file:///home/usuario/Documentos/Repositorys/NotaWeb/Treinos/formulario.html\"\n",
    "print(arquivo)\n",
    "\n",
    "navegador.get(arquivo)\n"
   ]
  },
  {
   "cell_type": "markdown",
   "metadata": {},
   "source": [
    "#### Clicar em um botão / sair de um alerta"
   ]
  },
  {
   "cell_type": "code",
   "execution_count": 98,
   "metadata": {},
   "outputs": [],
   "source": [
    "navegador.find_element(By.XPATH, '/html/body/form/input[1]').click()\n",
    "\n",
    "# pop-up\n",
    "alerta = navegador.switch_to.alert\n",
    "alerta.accept() # ou dismiss"
   ]
  },
  {
   "cell_type": "markdown",
   "metadata": {},
   "source": [
    "#### Check-\n",
    "\n",
    "#### Para pegar informação de um elemento\n",
    "\n",
    "#### .text \n",
    "#### .get_attribute(\"value\")\n",
    "#### .is_selected"
   ]
  },
  {
   "cell_type": "code",
   "execution_count": 99,
   "metadata": {},
   "outputs": [
    {
     "name": "stdout",
     "output_type": "stream",
     "text": [
      "True\n"
     ]
    }
   ],
   "source": [
    "valor_checkbox = navegador.find_element(By.XPATH, '/html/body/form/input[3]').click()\n",
    "valor_checkbox = navegador.find_element(By.XPATH, '/html/body/form/input[3]').is_selected()\n",
    "print(valor_checkbox)\n"
   ]
  },
  {
   "cell_type": "markdown",
   "metadata": {},
   "source": [
    "### Selecionar cor"
   ]
  },
  {
   "cell_type": "markdown",
   "metadata": {},
   "source": []
  },
  {
   "cell_type": "code",
   "execution_count": 100,
   "metadata": {},
   "outputs": [
    {
     "name": "stdout",
     "output_type": "stream",
     "text": [
      "#13aac9\n"
     ]
    }
   ],
   "source": [
    "cor_verde = navegador.find_element(By.XPATH, '/html/body/form/input[5]').send_keys('#13AAC9')\n",
    "valor_cor_verde = navegador.find_element(By.XPATH, '/html/body/form/input[5]').get_attribute('value')\n",
    "print(valor_cor_verde)"
   ]
  },
  {
   "cell_type": "code",
   "execution_count": 101,
   "metadata": {},
   "outputs": [
    {
     "name": "stdout",
     "output_type": "stream",
     "text": [
      "#3a19e1\n"
     ]
    }
   ],
   "source": [
    "cor_vermelha = navegador.find_element(By.XPATH, '/html/body/form/input[4]').send_keys('#3A19E1')\n",
    "valor_cor_vermelha = navegador.find_element(By.XPATH, '/html/body/form/input[4]').get_attribute('value')\n",
    "print(valor_cor_vermelha)"
   ]
  },
  {
   "cell_type": "code",
   "execution_count": 102,
   "metadata": {},
   "outputs": [
    {
     "name": "stdout",
     "output_type": "stream",
     "text": [
      "21\n"
     ]
    }
   ],
   "source": [
    "numero_input = navegador.find_element(By.XPATH, '/html/body/form/input[10]').send_keys('21')\n",
    "valor_numero_input = navegador.find_element(By.XPATH, '/html/body/form/input[10]').get_attribute('value')\n",
    "print(valor_numero_input)"
   ]
  },
  {
   "cell_type": "code",
   "execution_count": 103,
   "metadata": {},
   "outputs": [
    {
     "name": "stdout",
     "output_type": "stream",
     "text": [
      "1998-03-20\n"
     ]
    }
   ],
   "source": [
    "data = navegador.find_element(By.XPATH, '/html/body/form/input[6]').send_keys('20/03/1998')\n",
    "valor_data = navegador.find_element(By.XPATH, '/html/body/form/input[6]').get_attribute('value')\n",
    "print(valor_data)"
   ]
  },
  {
   "cell_type": "code",
   "execution_count": 104,
   "metadata": {},
   "outputs": [
    {
     "name": "stdout",
     "output_type": "stream",
     "text": [
      "\n",
      "1998-03-20T02:03\n"
     ]
    }
   ],
   "source": [
    "# Data Hora\n",
    "from selenium.webdriver.common.keys import Keys\n",
    "primeiro_data_hora = navegador.find_element(By.XPATH, '/html/body/form/input[7]').get_attribute('value')\n",
    "print(primeiro_data_hora)\n",
    "\n",
    "data_hora = navegador.find_element(By.XPATH, '/html/body/form/input[7]').send_keys('20/03/1998', Keys.TAB, '02:03')\n",
    "\n",
    "valor_data_hora = navegador.find_element(By.XPATH, '/html/body/form/input[7]').get_attribute('value')\n",
    "print(valor_data_hora)"
   ]
  },
  {
   "cell_type": "code",
   "execution_count": 105,
   "metadata": {},
   "outputs": [
    {
     "name": "stdout",
     "output_type": "stream",
     "text": [
      "\n"
     ]
    }
   ],
   "source": [
    "valor_anexo_arquivo = navegador.find_element(By.XPATH, '/html/body/form/input[8]').get_attribute('value')\n",
    "print(valor_anexo_arquivo)"
   ]
  },
  {
   "cell_type": "code",
   "execution_count": 106,
   "metadata": {},
   "outputs": [
    {
     "name": "stdout",
     "output_type": "stream",
     "text": [
      "None\n"
     ]
    }
   ],
   "source": [
    "mes_do_ano = navegador.find_element(By.XPATH, '/html/body/form/input[9]').send_keys('março', Keys.TAB, '1998')\n",
    "valor_mes_do_ano = navegador.find_element(By.XPATH, '/html/body/form/input[9]').get_attribute('values')\n",
    "print(valor_mes_do_ano)"
   ]
  },
  {
   "cell_type": "code",
   "execution_count": 107,
   "metadata": {},
   "outputs": [
    {
     "name": "stdout",
     "output_type": "stream",
     "text": [
      "VaiQueDa\n"
     ]
    }
   ],
   "source": [
    "senha_input = navegador.find_element(By.XPATH, '/html/body/form/input[11]').send_keys('VaiQueDa')\n",
    "valor_senha_input = navegador.find_element(By.XPATH, '/html/body/form/input[11]').get_attribute('value')\n",
    "print(valor_senha_input)\n"
   ]
  },
  {
   "cell_type": "code",
   "execution_count": 108,
   "metadata": {},
   "outputs": [
    {
     "name": "stdout",
     "output_type": "stream",
     "text": [
      "Flamengo\n"
     ]
    }
   ],
   "source": [
    "time_input = navegador.find_element(By.XPATH, '/html/body/form/input[16]').clear()\n",
    "time_input = navegador.find_element(By.XPATH, '/html/body/form/input[16]').send_keys('Flamengo')\n",
    "valor_time_input = navegador.find_element(By.XPATH, '/html/body/form/input[16]').get_attribute('value')\n",
    "print(valor_time_input)"
   ]
  },
  {
   "cell_type": "code",
   "execution_count": 109,
   "metadata": {},
   "outputs": [],
   "source": [
    "\n",
    "radio_input = navegador.find_element(By.XPATH, '/html/body/form/input[14]').click()"
   ]
  },
  {
   "cell_type": "code",
   "execution_count": 110,
   "metadata": {},
   "outputs": [],
   "source": [
    "\n",
    "horas = navegador.find_element(By.XPATH, '/html/body/form/input[17]').send_keys('04:20')"
   ]
  },
  {
   "cell_type": "code",
   "execution_count": 111,
   "metadata": {},
   "outputs": [],
   "source": [
    "\n",
    "numero_semana = navegador.find_element(By.XPATH, '/html/body/form/input[18]').send_keys('21', Keys.TAB, '2024')"
   ]
  },
  {
   "cell_type": "code",
   "execution_count": 121,
   "metadata": {},
   "outputs": [],
   "source": [
    "\n",
    "texxto_grande = navegador.find_element(By.XPATH, '//*[@id=\"story\"]').clear()\n",
    "\n",
    "texxto_grande = navegador.find_element(By.XPATH, '//*[@id=\"story\"]').send_keys('''Guilherme\n",
    "                                                                       Guilherm\n",
    "                                                                       Guilher\n",
    "                                                                       Guilh\n",
    "                                                                       Guil''')\n",
    "\n"
   ]
  },
  {
   "cell_type": "markdown",
   "metadata": {},
   "source": [
    "### Slider"
   ]
  },
  {
   "cell_type": "code",
   "execution_count": 127,
   "metadata": {},
   "outputs": [
    {
     "name": "stdout",
     "output_type": "stream",
     "text": [
      "<selenium.webdriver.remote.webelement.WebElement (session=\"dfff41721030daea00da8646a9cb8680\", element=\"f.E7697DA48B1C7F112E0E0FF05B4DCE01.d.41478B70BD042FB1FD2151E5B1531A4C.e.77\")>\n"
     ]
    }
   ],
   "source": [
    "slider_input = navegador.find_element(By.XPATH, '/html/body/form/input[15]')\n",
    "print(slider_input)\n",
    "slider_input.clear()\n",
    "for i in range(70-50):\n",
    "    slider_input.send_keys(Keys.ARROW_RIGHT)"
   ]
  },
  {
   "cell_type": "code",
   "execution_count": 129,
   "metadata": {},
   "outputs": [
    {
     "name": "stdout",
     "output_type": "stream",
     "text": [
      "c\n"
     ]
    }
   ],
   "source": [
    "botao_select = navegador.find_element(By.XPATH, '/html/body/form/select[1]').send_keys('C')\n",
    "valor_botao_select = navegador.find_element(By.XPATH, '/html/body/form/select[1]').get_attribute('value')\n",
    "print(valor_botao_select)\n"
   ]
  },
  {
   "cell_type": "code",
   "execution_count": 132,
   "metadata": {},
   "outputs": [],
   "source": [
    "click_botao_select = navegador.find_element(By.XPATH, '/html/body/form/select[1]').click()\n",
    "click_c = navegador.find_element(By.XPATH, '/html/body/form/select[1]/option[3]').click()"
   ]
  },
  {
   "cell_type": "markdown",
   "metadata": {},
   "source": [
    "Select"
   ]
  },
  {
   "cell_type": "code",
   "execution_count": 133,
   "metadata": {},
   "outputs": [],
   "source": [
    "from selenium.webdriver.support.select import Select\n",
    "\n",
    "\n",
    "novo_botao_select = navegador.find_element(By.TAG_NAME, 'select')\n",
    "novo_botao_select = Select(novo_botao_select)"
   ]
  },
  {
   "cell_type": "code",
   "execution_count": 134,
   "metadata": {},
   "outputs": [],
   "source": [
    "novo_botao_select.select_by_index(0)"
   ]
  }
 ],
 "metadata": {
  "kernelspec": {
   "display_name": "base",
   "language": "python",
   "name": "python3"
  },
  "language_info": {
   "codemirror_mode": {
    "name": "ipython",
    "version": 3
   },
   "file_extension": ".py",
   "mimetype": "text/x-python",
   "name": "python",
   "nbconvert_exporter": "python",
   "pygments_lexer": "ipython3",
   "version": "3.12.4"
  }
 },
 "nbformat": 4,
 "nbformat_minor": 2
}
