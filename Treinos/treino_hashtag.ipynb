{
 "cells": [
  {
   "cell_type": "code",
   "execution_count": 14,
   "id": "661f28cd-e5fd-4dde-8578-fdb6cb260b44",
   "metadata": {},
   "outputs": [],
   "source": [
    "from selenium import webdriver\n",
    "from selenium.webdriver.chrome.service import Service\n",
    "from webdriver_manager.chrome import ChromeDriverManager\n",
    "\n",
    "\n",
    "\n",
    "servico = Service(ChromeDriverManager().install())\n",
    "navegador = webdriver.Chrome(service=servico)"
   ]
  },
  {
   "cell_type": "code",
   "execution_count": 15,
   "id": "419651ac-544a-499a-8611-3b52953bb8ee",
   "metadata": {},
   "outputs": [
    {
     "name": "stdout",
     "output_type": "stream",
     "text": [
      "/home/usuario/Documentos/Repositorys/NotaWeb/Treinos\n",
      "file:///home/usuario/Documentos/Repositorys/NotaWeb/Treinos/Pagina%20Hashtag.html\n",
      "Logado - TODOS OS CURSOS DA HASHTAG TREINAMENTOS\n"
     ]
    }
   ],
   "source": [
    "from selenium.webdriver.common.by import By\n",
    "import os\n",
    "\n",
    "caminho = os.getcwd()\n",
    "print(caminho)\n",
    "\n",
    "arquivo = \"file:///home/usuario/Documentos/Repositorys/NotaWeb/Treinos/Pagina%20Hashtag.html\"\n",
    "print(arquivo)\n",
    "\n",
    "navegador.get(arquivo)\n",
    "\n",
    "titulo = navegador.find_element(By.TAG_NAME, 'h2').text\n",
    "print(f'Logado - {titulo}')"
   ]
  },
  {
   "cell_type": "code",
   "execution_count": 16,
   "id": "cee3b3d4-e4c6-469f-b096-51365191c1e2",
   "metadata": {},
   "outputs": [],
   "source": [
    "lista_elementos = navegador.find_elements(By.CLASS_NAME, 'nav-link')\n",
    "\n",
    "for elemento in lista_elementos:\n",
    "    if 'blog' in elemento.text.lower():\n",
    "        elemento.click()\n",
    "        break"
   ]
  },
  {
   "cell_type": "code",
   "execution_count": 17,
   "id": "68466d52-03b9-4851-9a0b-0b727df82a0b",
   "metadata": {},
   "outputs": [
    {
     "name": "stdout",
     "output_type": "stream",
     "text": [
      "https://api.whatsapp.com/send?phone=5521996582442&text=Ol%C3%A1%2C%20gostaria%20de%20tirar%20uma%20d%C3%BAvida%20%20sobre%20o%20curso%20online\n"
     ]
    }
   ],
   "source": [
    "# WHatsApp\n",
    "texto = navegador.find_element(By.XPATH, '/html/body/footer/div/div/div[1]/div[2]/div[5]/div/a').get_attribute('href')\n",
    "print(texto)"
   ]
  },
  {
   "cell_type": "code",
   "execution_count": 18,
   "id": "d501713e-4820-4c67-b4ae-355aee34274b",
   "metadata": {},
   "outputs": [],
   "source": [
    "from selenium.webdriver.common.by import By\n",
    "navegador.get(arquivo)"
   ]
  },
  {
   "cell_type": "code",
   "execution_count": 19,
   "id": "e530d3c9-bdaf-4ed3-ad62-001f974d0e03",
   "metadata": {},
   "outputs": [
    {
     "name": "stdout",
     "output_type": "stream",
     "text": [
      "https://www.hashtagtreinamentos.com/curso-de-excel-online\n"
     ]
    }
   ],
   "source": [
    "link_cursos = navegador.find_element(By.XPATH, '/html/body/section[2]/div/div[4]/figure/a').get_attribute('href')\n",
    "print(link_cursos)"
   ]
  },
  {
   "cell_type": "code",
   "execution_count": 20,
   "id": "e83e803b-5c5e-4308-9732-407d2d87107b",
   "metadata": {},
   "outputs": [],
   "source": [
    "from selenium.webdriver.common.by import By\n",
    "\n",
    "navegador.find_element(By.CLASS_NAME, 'custom-logo').click()"
   ]
  },
  {
   "cell_type": "code",
   "execution_count": 21,
   "id": "45752cbd-6773-4232-acfa-e197abb097fb",
   "metadata": {},
   "outputs": [],
   "source": [
    "from selenium.webdriver.common.by import By\n",
    "navegador.get(arquivo)"
   ]
  },
  {
   "cell_type": "code",
   "execution_count": 22,
   "id": "e67969dc",
   "metadata": {},
   "outputs": [
    {
     "name": "stdout",
     "output_type": "stream",
     "text": [
      "[<selenium.webdriver.remote.webelement.WebElement (session=\"ffd90234bf417c09a72e501afe6dc62e\", element=\"f.83588693ED5D0D5088109E9BEA35AF1C.d.0167AB75356F74B5B771862E3424E51A.e.5\")>, <selenium.webdriver.remote.webelement.WebElement (session=\"ffd90234bf417c09a72e501afe6dc62e\", element=\"f.83588693ED5D0D5088109E9BEA35AF1C.d.0167AB75356F74B5B771862E3424E51A.e.6\")>, <selenium.webdriver.remote.webelement.WebElement (session=\"ffd90234bf417c09a72e501afe6dc62e\", element=\"f.83588693ED5D0D5088109E9BEA35AF1C.d.0167AB75356F74B5B771862E3424E51A.e.7\")>, <selenium.webdriver.remote.webelement.WebElement (session=\"ffd90234bf417c09a72e501afe6dc62e\", element=\"f.83588693ED5D0D5088109E9BEA35AF1C.d.0167AB75356F74B5B771862E3424E51A.e.8\")>, <selenium.webdriver.remote.webelement.WebElement (session=\"ffd90234bf417c09a72e501afe6dc62e\", element=\"f.83588693ED5D0D5088109E9BEA35AF1C.d.0167AB75356F74B5B771862E3424E51A.e.9\")>, <selenium.webdriver.remote.webelement.WebElement (session=\"ffd90234bf417c09a72e501afe6dc62e\", element=\"f.83588693ED5D0D5088109E9BEA35AF1C.d.0167AB75356F74B5B771862E3424E51A.e.10\")>]\n",
      "https://www.hashtagtreinamentos.com/curso-de-excel-online\n",
      "https://www.hashtagtreinamentos.com/curso-power-bi\n",
      "https://www.hashtagtreinamentos.com/curso-python\n",
      "https://www.hashtagtreinamentos.com/curso-sql\n",
      "https://www.hashtagtreinamentos.com/curso-vba-excel\n",
      "1\n"
     ]
    }
   ],
   "source": [
    "lista_imagens = navegador.find_elements(By.TAG_NAME, 'figure')\n",
    "print(lista_imagens)\n",
    "\n",
    "for imagem in lista_imagens:\n",
    "    certo = 0\n",
    "    errado = 0\n",
    "    try:\n",
    "        link = imagem.find_element(By.TAG_NAME, 'a').get_attribute('href')\n",
    "        certo += 1\n",
    "        print(link)\n",
    "    except:\n",
    "        errado +=1\n",
    "        print(errado)\n",
    "        continue"
   ]
  },
  {
   "cell_type": "markdown",
   "id": "976f1c05",
   "metadata": {},
   "source": [
    "Actions Chains"
   ]
  },
  {
   "cell_type": "code",
   "execution_count": 23,
   "id": "3d492022",
   "metadata": {},
   "outputs": [
    {
     "ename": "ElementNotInteractableException",
     "evalue": "Message: element not interactable\n  (Session info: chrome=129.0.6668.89)\nStacktrace:\n#0 0x55ac9f43b02a <unknown>\n#1 0x55ac9f12143d <unknown>\n#2 0x55ac9f171ddb <unknown>\n#3 0x55ac9f165a98 <unknown>\n#4 0x55ac9f195b22 <unknown>\n#5 0x55ac9f165478 <unknown>\n#6 0x55ac9f195cee <unknown>\n#7 0x55ac9f1b4d7d <unknown>\n#8 0x55ac9f1958c3 <unknown>\n#9 0x55ac9f1636b3 <unknown>\n#10 0x55ac9f16468e <unknown>\n#11 0x55ac9f405a2b <unknown>\n#12 0x55ac9f4099b1 <unknown>\n#13 0x55ac9f3f2225 <unknown>\n#14 0x55ac9f40a532 <unknown>\n#15 0x55ac9f3d738f <unknown>\n#16 0x55ac9f429f28 <unknown>\n#17 0x55ac9f42a0f3 <unknown>\n#18 0x55ac9f439e7c <unknown>\n#19 0x7f0ec9e84ea7 start_thread\n",
     "output_type": "error",
     "traceback": [
      "\u001b[0;31m---------------------------------------------------------------------------\u001b[0m",
      "\u001b[0;31mElementNotInteractableException\u001b[0m           Traceback (most recent call last)",
      "Cell \u001b[0;32mIn[23], line 8\u001b[0m\n\u001b[1;32m      4\u001b[0m item_cursos \u001b[38;5;241m=\u001b[39m navegador\u001b[38;5;241m.\u001b[39mfind_element(By\u001b[38;5;241m.\u001b[39mXPATH, \u001b[38;5;124m'\u001b[39m\u001b[38;5;124m//*[@id=\u001b[39m\u001b[38;5;124m\"\u001b[39m\u001b[38;5;124mmenu-item-17042\u001b[39m\u001b[38;5;124m\"\u001b[39m\u001b[38;5;124m]/a\u001b[39m\u001b[38;5;124m'\u001b[39m)\n\u001b[1;32m      6\u001b[0m ActionChains(navegador)\u001b[38;5;241m.\u001b[39mmove_to_element(item_menu)\u001b[38;5;241m.\u001b[39mperform()\n\u001b[0;32m----> 8\u001b[0m item_cursos\u001b[38;5;241m.\u001b[39mclick()\n",
      "File \u001b[0;32m~/anaconda3/lib/python3.12/site-packages/selenium/webdriver/remote/webelement.py:94\u001b[0m, in \u001b[0;36mWebElement.click\u001b[0;34m(self)\u001b[0m\n\u001b[1;32m     92\u001b[0m \u001b[38;5;28;01mdef\u001b[39;00m \u001b[38;5;21mclick\u001b[39m(\u001b[38;5;28mself\u001b[39m) \u001b[38;5;241m-\u001b[39m\u001b[38;5;241m>\u001b[39m \u001b[38;5;28;01mNone\u001b[39;00m:\n\u001b[1;32m     93\u001b[0m \u001b[38;5;250m    \u001b[39m\u001b[38;5;124;03m\"\"\"Clicks the element.\"\"\"\u001b[39;00m\n\u001b[0;32m---> 94\u001b[0m     \u001b[38;5;28mself\u001b[39m\u001b[38;5;241m.\u001b[39m_execute(Command\u001b[38;5;241m.\u001b[39mCLICK_ELEMENT)\n",
      "File \u001b[0;32m~/anaconda3/lib/python3.12/site-packages/selenium/webdriver/remote/webelement.py:395\u001b[0m, in \u001b[0;36mWebElement._execute\u001b[0;34m(self, command, params)\u001b[0m\n\u001b[1;32m    393\u001b[0m     params \u001b[38;5;241m=\u001b[39m {}\n\u001b[1;32m    394\u001b[0m params[\u001b[38;5;124m\"\u001b[39m\u001b[38;5;124mid\u001b[39m\u001b[38;5;124m\"\u001b[39m] \u001b[38;5;241m=\u001b[39m \u001b[38;5;28mself\u001b[39m\u001b[38;5;241m.\u001b[39m_id\n\u001b[0;32m--> 395\u001b[0m \u001b[38;5;28;01mreturn\u001b[39;00m \u001b[38;5;28mself\u001b[39m\u001b[38;5;241m.\u001b[39m_parent\u001b[38;5;241m.\u001b[39mexecute(command, params)\n",
      "File \u001b[0;32m~/anaconda3/lib/python3.12/site-packages/selenium/webdriver/remote/webdriver.py:354\u001b[0m, in \u001b[0;36mWebDriver.execute\u001b[0;34m(self, driver_command, params)\u001b[0m\n\u001b[1;32m    352\u001b[0m response \u001b[38;5;241m=\u001b[39m \u001b[38;5;28mself\u001b[39m\u001b[38;5;241m.\u001b[39mcommand_executor\u001b[38;5;241m.\u001b[39mexecute(driver_command, params)\n\u001b[1;32m    353\u001b[0m \u001b[38;5;28;01mif\u001b[39;00m response:\n\u001b[0;32m--> 354\u001b[0m     \u001b[38;5;28mself\u001b[39m\u001b[38;5;241m.\u001b[39merror_handler\u001b[38;5;241m.\u001b[39mcheck_response(response)\n\u001b[1;32m    355\u001b[0m     response[\u001b[38;5;124m\"\u001b[39m\u001b[38;5;124mvalue\u001b[39m\u001b[38;5;124m\"\u001b[39m] \u001b[38;5;241m=\u001b[39m \u001b[38;5;28mself\u001b[39m\u001b[38;5;241m.\u001b[39m_unwrap_value(response\u001b[38;5;241m.\u001b[39mget(\u001b[38;5;124m\"\u001b[39m\u001b[38;5;124mvalue\u001b[39m\u001b[38;5;124m\"\u001b[39m, \u001b[38;5;28;01mNone\u001b[39;00m))\n\u001b[1;32m    356\u001b[0m     \u001b[38;5;28;01mreturn\u001b[39;00m response\n",
      "File \u001b[0;32m~/anaconda3/lib/python3.12/site-packages/selenium/webdriver/remote/errorhandler.py:229\u001b[0m, in \u001b[0;36mErrorHandler.check_response\u001b[0;34m(self, response)\u001b[0m\n\u001b[1;32m    227\u001b[0m         alert_text \u001b[38;5;241m=\u001b[39m value[\u001b[38;5;124m\"\u001b[39m\u001b[38;5;124malert\u001b[39m\u001b[38;5;124m\"\u001b[39m]\u001b[38;5;241m.\u001b[39mget(\u001b[38;5;124m\"\u001b[39m\u001b[38;5;124mtext\u001b[39m\u001b[38;5;124m\"\u001b[39m)\n\u001b[1;32m    228\u001b[0m     \u001b[38;5;28;01mraise\u001b[39;00m exception_class(message, screen, stacktrace, alert_text)  \u001b[38;5;66;03m# type: ignore[call-arg]  # mypy is not smart enough here\u001b[39;00m\n\u001b[0;32m--> 229\u001b[0m \u001b[38;5;28;01mraise\u001b[39;00m exception_class(message, screen, stacktrace)\n",
      "\u001b[0;31mElementNotInteractableException\u001b[0m: Message: element not interactable\n  (Session info: chrome=129.0.6668.89)\nStacktrace:\n#0 0x55ac9f43b02a <unknown>\n#1 0x55ac9f12143d <unknown>\n#2 0x55ac9f171ddb <unknown>\n#3 0x55ac9f165a98 <unknown>\n#4 0x55ac9f195b22 <unknown>\n#5 0x55ac9f165478 <unknown>\n#6 0x55ac9f195cee <unknown>\n#7 0x55ac9f1b4d7d <unknown>\n#8 0x55ac9f1958c3 <unknown>\n#9 0x55ac9f1636b3 <unknown>\n#10 0x55ac9f16468e <unknown>\n#11 0x55ac9f405a2b <unknown>\n#12 0x55ac9f4099b1 <unknown>\n#13 0x55ac9f3f2225 <unknown>\n#14 0x55ac9f40a532 <unknown>\n#15 0x55ac9f3d738f <unknown>\n#16 0x55ac9f429f28 <unknown>\n#17 0x55ac9f42a0f3 <unknown>\n#18 0x55ac9f439e7c <unknown>\n#19 0x7f0ec9e84ea7 start_thread\n"
     ]
    }
   ],
   "source": [
    "from selenium.webdriver import ActionChains\n",
    "\n",
    "item_menu = navegador.find_element(By.XPATH, '//*[@id=\"menu-item-9706\"]/a')\n",
    "item_cursos = navegador.find_element(By.XPATH, '//*[@id=\"menu-item-17042\"]/a')\n",
    "\n",
    "ActionChains(navegador).move_to_element(item_menu).perform()\n",
    "\n",
    "item_cursos.click()"
   ]
  },
  {
   "cell_type": "code",
   "execution_count": 11,
   "id": "4ecf65bf",
   "metadata": {},
   "outputs": [
    {
     "name": "stdout",
     "output_type": "stream",
     "text": [
      "https://www.hashtagtreinamentos.com/curso-python\n"
     ]
    }
   ],
   "source": [
    "link = navegador.find_element(By.XPATH, '//*[@id=\"menu-item-9706\"]/a').get_attribute('href')\n",
    "print(link)\n"
   ]
  }
 ],
 "metadata": {
  "kernelspec": {
   "display_name": "Python 3 (ipykernel)",
   "language": "python",
   "name": "python3"
  },
  "language_info": {
   "codemirror_mode": {
    "name": "ipython",
    "version": 3
   },
   "file_extension": ".py",
   "mimetype": "text/x-python",
   "name": "python",
   "nbconvert_exporter": "python",
   "pygments_lexer": "ipython3",
   "version": "3.12.4"
  }
 },
 "nbformat": 4,
 "nbformat_minor": 5
}
