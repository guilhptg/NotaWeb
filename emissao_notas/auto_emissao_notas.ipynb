{
 "cells": [
  {
   "cell_type": "markdown",
   "metadata": {},
   "source": [
    "# Início do projeto\n",
    "\n",
    "### Primeira fase:\n",
    "\n",
    "- Instalar por precaução o ChromeDriverManager \n",
    "- Abrir navegador contralado pelo __Selenium__"
   ]
  },
  {
   "cell_type": "code",
   "execution_count": 3,
   "metadata": {},
   "outputs": [],
   "source": [
    "from selenium import webdriver\n",
    "from selenium.webdriver.chrome.service import Service\n",
    "from webdriver_manager.chrome import ChromeDriverManager\n",
    "\n",
    "\n",
    "\n",
    "servico = Service(ChromeDriverManager().install())\n",
    "nav = webdriver.Chrome(service=servico)"
   ]
  },
  {
   "cell_type": "markdown",
   "metadata": {},
   "source": [
    "### Login\n",
    "\n",
    "- Codigo desstinado ao login do usuário que quer emitir as notas. Deixando o usuário na página pronta para registrar as notas"
   ]
  },
  {
   "cell_type": "code",
   "execution_count": 4,
   "metadata": {},
   "outputs": [
    {
     "name": "stdout",
     "output_type": "stream",
     "text": [
      "file:///home/usuario/Documentos/Repositorys/NotaWeb/emissao_notas\n",
      "file:///home/usuario/Documentos/Repositorys/NotaWeb/emissao_notas/login.html\n"
     ]
    }
   ],
   "source": [
    "from selenium.webdriver.common.by import By\n",
    "from selenium.webdriver.common.keys import Keys\n",
    "from time import sleep\n",
    "import os\n",
    "\n",
    "caminho = 'file://' + os.getcwd()\n",
    "print(caminho)\n",
    "\n",
    "\n",
    "arquivo = caminho + r'/login.html'\n",
    "print(arquivo)\n",
    "\n",
    "nav.get(arquivo)\n",
    "\n",
    "nome_login = nav.find_element(By.XPATH, '/html/body/div/form/input[1]').send_keys('Bot', Keys.TAB, '12345')\n",
    "sleep(0.7)\n",
    "login = nav.find_element(By.XPATH, '/html/body/div/form/button').send_keys(Keys.ENTER)"
   ]
  },
  {
   "cell_type": "markdown",
   "metadata": {},
   "source": [
    "### Importar o Banco de Dados\n",
    "\n",
    "- Nessa etapa do código vamos localizar o caminho e acessar ele para transdormar em um __DataFrame__ com o __Pandas__.\n",
    "\n",
    "- Resalva importante, certifique de ter todos os dados já tratados."
   ]
  },
  {
   "cell_type": "code",
   "execution_count": 5,
   "metadata": {},
   "outputs": [
    {
     "name": "stdout",
     "output_type": "stream",
     "text": [
      "<class 'pandas.core.frame.DataFrame'>\n",
      "RangeIndex: 30 entries, 0 to 29\n",
      "Data columns (total 12 columns):\n",
      " #   Column              Non-Null Count  Dtype \n",
      "---  ------              --------------  ----- \n",
      " 0   Cliente             30 non-null     object\n",
      " 1   CPF/CNPJ            30 non-null     int64 \n",
      " 2   CEP                 30 non-null     int64 \n",
      " 3   Endereço            30 non-null     object\n",
      " 4   Bairro              30 non-null     object\n",
      " 5   Municipio           30 non-null     object\n",
      " 6   UF                  30 non-null     object\n",
      " 7   Inscricao Estadual  30 non-null     int64 \n",
      " 8   Descrição           30 non-null     object\n",
      " 9   Quantidade          30 non-null     int64 \n",
      " 10  Valor Unitario      30 non-null     int64 \n",
      " 11  Valor Total         30 non-null     int64 \n",
      "dtypes: int64(6), object(6)\n",
      "memory usage: 2.9+ KB\n"
     ]
    }
   ],
   "source": [
    "import pandas as pd\n",
    "import os \n",
    "\n",
    "caminho = 'file://' + os.getcwd()\n",
    "notas_emitir_excel = '/NotasEmitir.xlsx'\n",
    "\n",
    "notas = caminho + notas_emitir_excel\n",
    "df_notas = pd.read_excel(notas, engine='openpyxl')\n",
    "\n",
    "df_notas.info()"
   ]
  },
  {
   "cell_type": "markdown",
   "metadata": {},
   "source": [
    "### Preencher as notas e emitir\n",
    "\n",
    "- Aqui o código percorre a lista e preenche os campos necessários. Após esse processo ele baixa o arquivo e vai para outro"
   ]
  },
  {
   "cell_type": "code",
   "execution_count": 6,
   "metadata": {},
   "outputs": [],
   "source": [
    "for k, v in enumerate(df_notas):\n",
    "\n",
    "    df_cliente = df_notas['Cliente'][k]\n",
    "    df_cpf_cnpj = int(df_notas['CPF/CNPJ'][k])\n",
    "    df_cep = int(df_notas['CEP'][k])\n",
    "    df_endereco = df_notas['Endereço'][k]\n",
    "    df_bairro = df_notas['Bairro'][k]\n",
    "    df_municipio = df_notas['Municipio'][k]\n",
    "    df_uf = df_notas['UF'][k]\n",
    "    df_inscri_estadual = int(df_notas['Inscricao Estadual'][k])\n",
    "    df_descricao = df_notas['Descrição'][k]\n",
    "    df_quantidade = int(df_notas['Quantidade'][k])\n",
    "    df_valor_unitario = int(df_notas['Valor Unitario'][k])\n",
    "    df_valor_total= int(df_notas['Valor Total'][k])\n",
    "\n",
    "\n",
    "    # Cliente \n",
    "    cliente = nav.find_element(By.NAME, 'nome').clear()\n",
    "    cliente = nav.find_element(By.NAME, 'nome').send_keys(df_cliente, Keys.TAB)\n",
    "\n",
    "    # ENDEREÇO\n",
    "    endereco = nav.find_element(By.NAME, 'endereco').clear()\n",
    "    endereco = nav.find_element(By.NAME, 'endereco').send_keys(df_endereco, Keys.TAB)\n",
    "\n",
    "    # Bairro\n",
    "    bairro = nav.find_element(By.NAME, 'bairro').clear()\n",
    "    bairro = nav.find_element(By.NAME, 'bairro').send_keys(df_bairro, Keys.TAB)\n",
    "\n",
    "    # Município\n",
    "    municipio = nav.find_element(By.NAME, 'municipio').clear()\n",
    "    municipio = nav.find_element(By.NAME, 'municipio').send_keys(df_municipio, Keys.TAB)\n",
    "\n",
    "    # CEP\n",
    "    cep = nav.find_element(By.NAME, 'cep').clear()\n",
    "    cep = nav.find_element(By.NAME, 'cep').send_keys(df_cep)\n",
    "    \n",
    "    # UF\n",
    "    uf = nav.find_element(By.NAME, 'uf').send_keys(df_uf, Keys.TAB)\n",
    "\n",
    "    # CPF /CNPJ\n",
    "    cnpj = nav.find_element(By.NAME, 'cnpj').clear()\n",
    "    cnpj = nav.find_element(By.NAME, 'cnpj').send_keys(df_cpf_cnpj, Keys.TAB)\n",
    "\n",
    "    # Inscrição estadual\n",
    "    inscricao = nav.find_element(By.NAME, 'inscricao').clear()\n",
    "    inscricao = nav.find_element(By.NAME, 'inscricao').send_keys(df_inscri_estadual, Keys.TAB)\n",
    "\n",
    "    # Descrição de produto/serviço\n",
    "    descricao = nav.find_element(By.NAME, 'descricao').clear()\n",
    "    descricao = nav.find_element(By.NAME, 'descricao').send_keys(df_descricao, Keys.TAB)\n",
    "\n",
    "    # Quantidade \n",
    "    quantidade = nav.find_element(By.NAME, 'quantidade').clear()\n",
    "    quantidade = nav.find_element(By.NAME, 'quantidade').send_keys(df_quantidade, Keys.TAB)\n",
    "\n",
    "    # valor_unitário\n",
    "    valor_unitario = nav.find_element(By.NAME, 'valor_unitario').clear()\n",
    "    valor_unitario = nav.find_element(By.NAME, 'valor_unitario').send_keys(df_valor_unitario, Keys.TAB)\n",
    "\n",
    "    # Valor Total\n",
    "    # Enter\n",
    "    total = nav.find_element(By.NAME, 'total').clear()\n",
    "    total = nav.find_element(By.NAME, 'total').send_keys(df_valor_total, Keys.TAB, Keys.ENTER)\n",
    "\n",
    "    sleep(0.5)\n",
    "    total = nav.find_element(By.CLASS_NAME, 'registerbtn').send_keys(Keys.ENTER)\n",
    "\n",
    "    nav.refresh()"
   ]
  },
  {
   "cell_type": "markdown",
   "metadata": {},
   "source": [
    "### Tranformar o arquivo\n",
    "\n",
    "- Lógica desenvolvida para transformar as notas que são emitidas em _.xmlx__(arquivo excel) para um arquivo __.csv__(PDF)"
   ]
  }
 ],
 "metadata": {
  "kernelspec": {
   "display_name": "Python 3 (ipykernel)",
   "language": "python",
   "name": "python3"
  },
  "language_info": {
   "codemirror_mode": {
    "name": "ipython",
    "version": 3
   },
   "file_extension": ".py",
   "mimetype": "text/x-python",
   "name": "python",
   "nbconvert_exporter": "python",
   "pygments_lexer": "ipython3",
   "version": "3.12.4"
  }
 },
 "nbformat": 4,
 "nbformat_minor": 4
}
